{
 "cells": [
  {
   "metadata": {},
   "cell_type": "markdown",
   "source": [
    "# CholeskyGenerator Demo\n",
    "A demonstration of the CholeskyGenerator object used in this project."
   ],
   "id": "43fa1af17a724055"
  },
  {
   "metadata": {
    "collapsed": true
   },
   "cell_type": "code",
   "source": [
    "from generators import CholeskyGenerator\n",
    "import matplotlib.pyplot as plt\n",
    "import numpy as np"
   ],
   "id": "initial_id",
   "outputs": [],
   "execution_count": null
  },
  {
   "metadata": {},
   "cell_type": "markdown",
   "source": "## 2D Data Generation",
   "id": "4618293861f705a3"
  },
  {
   "metadata": {},
   "cell_type": "code",
   "source": [
    "corr = [[1, 0.9], [0.9, 1]]\n",
    "gen = CholeskyGenerator(corr=corr, shifts=[5, 10], mults=[1, -1])\n",
    "result = gen.get(10000)\n",
    "\n",
    "fig, ax = plt.subplots()\n",
    "ax.scatter(result[0], result[1])\n",
    "plt.show()"
   ],
   "id": "8e2f1ec622b79356",
   "outputs": [],
   "execution_count": null
  },
  {
   "metadata": {},
   "cell_type": "code",
   "source": [
    "# The correlation matrix should be nearly identical to the input matrix, with negative values wherever -mults are applied.\n",
    "np.corrcoef(result[0], result[1])"
   ],
   "id": "6ea39dd40edc2538",
   "outputs": [],
   "execution_count": null
  },
  {
   "metadata": {},
   "cell_type": "markdown",
   "source": "## 3D Data Generation",
   "id": "e4695676d2b88c11"
  },
  {
   "metadata": {},
   "cell_type": "code",
   "source": [
    "gen = CholeskyGenerator(corr=[[1, 0.9, 0.5], [0.9, 1, 0.3], [0.5, 0.3, 1]], shifts=[5, 0, -2], mults=[-5, 1, 1])\n",
    "result3 = gen.get(10000)\n",
    "\n",
    "fig = plt.figure()\n",
    "ax = fig.add_subplot(projection='3d')\n",
    "ax.scatter(result3[0], result3[1], result3[2])\n",
    "plt.show()"
   ],
   "id": "151a4e0c1c5e69f9",
   "outputs": [],
   "execution_count": null
  },
  {
   "metadata": {},
   "cell_type": "code",
   "source": [
    "# The correlation matrix should be nearly identical to the input matrix, with negative values wherever -mults are applied.\n",
    "np.corrcoef(result3)"
   ],
   "id": "7413bbcd9b721909",
   "outputs": [],
   "execution_count": null
  }
 ],
 "metadata": {
  "kernelspec": {
   "display_name": "Python 3",
   "language": "python",
   "name": "python3"
  },
  "language_info": {
   "codemirror_mode": {
    "name": "ipython",
    "version": 2
   },
   "file_extension": ".py",
   "mimetype": "text/x-python",
   "name": "python",
   "nbconvert_exporter": "python",
   "pygments_lexer": "ipython2",
   "version": "2.7.6"
  }
 },
 "nbformat": 4,
 "nbformat_minor": 5
}
